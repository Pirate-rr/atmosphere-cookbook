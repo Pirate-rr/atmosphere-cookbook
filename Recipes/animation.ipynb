{
 "cells": [
  {
   "cell_type": "markdown",
   "id": "3b45770b-47a4-45cc-bac9-972a8c56a864",
   "metadata": {},
   "source": [
    "Making an Animation in Python!\n",
    "\n",
    "Example using AUS2200 radar output. Adapted from Chris Chambers' tutorial. By Kim Reid and ChatGPT"
   ]
  },
  {
   "cell_type": "code",
   "execution_count": null,
   "id": "786d7700-f1a0-4ec4-92e6-a37bcb1f0ef1",
   "metadata": {},
   "outputs": [],
   "source": [
    "#SET UP THE NOTEBOOK\n",
    "import xarray as xr\n",
    "import numpy as np\n",
    "import matplotlib as mpl\n",
    "import matplotlib.cm as cm\n",
    "import matplotlib.pyplot as plt\n",
    "import cartopy.crs as ccrs\n",
    "import matplotlib.colors as mcolors\n",
    "from dask.distributed import Client\n",
    "from glob import glob"
   ]
  },
  {
   "cell_type": "code",
   "execution_count": null,
   "id": "70139dac-4cec-4574-8685-d086e517e0f2",
   "metadata": {},
   "outputs": [],
   "source": [
    "client=Client()"
   ]
  },
  {
   "cell_type": "code",
   "execution_count": null,
   "id": "9f198e6a-ff81-4217-a00a-c404a6451687",
   "metadata": {},
   "outputs": [],
   "source": [
    "client"
   ]
  },
  {
   "cell_type": "code",
   "execution_count": null,
   "id": "210d18ae-0d11-496f-bcd3-c60663720f0d",
   "metadata": {},
   "outputs": [],
   "source": [
    "#READ IN PRESSURE AND RADAR DATA FROM AUS2200 - This is from the Feb-Mar 2022 flooding analysis\n",
    "flist_psl=sorted(glob('/g/data/ua8/AUS2200/flood22-coralsea-control/v1-0/10min/psl_*.nc'))\n",
    "flist_radar=sorted(glob('/g/data/ua8/AUS2200/flood22-coralsea-control/v1-0/10min/reflmax_*.nc'))"
   ]
  },
  {
   "cell_type": "code",
   "execution_count": null,
   "id": "0944545f-8c97-44ce-9002-da4cef8aafbf",
   "metadata": {},
   "outputs": [],
   "source": [
    "#DEFINE THE REGION AND TIME PERIOD YOU WANT (to save time and memory)\n",
    "def _preprocess_eaust(ds):\n",
    "    return ds.sel(lat=slice(-44,-15), lon=slice(143,157), time=slice(\"2022-02-24\",\"2022-02-28\"))\n",
    "    "
   ]
  },
  {
   "cell_type": "code",
   "execution_count": null,
   "id": "01f29027-63d4-4c78-a579-5ec5dae8d9e2",
   "metadata": {},
   "outputs": [],
   "source": [
    "#READ IN VARIABLES\n",
    "ds_psl = xr.open_mfdataset(flist_psl,parallel=True,combine='nested',concat_dim='time', preprocess=_preprocess_eaust)\n",
    "ds_radar=xr.open_mfdataset(flist_radar,parallel=True,combine='nested',concat_dim='time', preprocess=_preprocess_eaust)\n",
    "psl=ds_psl['psl']\n",
    "radar=ds_radar['reflmax']"
   ]
  },
  {
   "cell_type": "code",
   "execution_count": null,
   "id": "cd7f24bc-b8b8-4431-9faf-10e39a085687",
   "metadata": {},
   "outputs": [],
   "source": [
    "#[OPTIONAL] CONVERT FROM 10 MIN TO 3 HOURLY DATA\n",
    "hr_psl=psl.resample(time='3h').mean()\n",
    "hr_radar=radar.resample(time='3h').mean()"
   ]
  },
  {
   "cell_type": "code",
   "execution_count": null,
   "id": "5476987e-bb9a-4132-8c0a-5cd8bfc212bb",
   "metadata": {},
   "outputs": [],
   "source": [
    "#DEFINE FOR PLOTTING PURPOSES\n",
    "x=radar.lat\n",
    "y=radar.lon"
   ]
  },
  {
   "cell_type": "code",
   "execution_count": null,
   "id": "e824b2df-550c-485f-87af-3e79d972e78c",
   "metadata": {},
   "outputs": [],
   "source": [
    "#TEST ON ONE TIMESTEP\n",
    "fig,ax=plt.subplots(1,1, subplot_kw={'projection': ccrs.PlateCarree()})\n",
    "\n",
    "#DEFINE RADAR COLORMAP AND COLORBAR\n",
    "colormap=cm.hsv_r #_r reverses colorbar\n",
    "vmn=0\n",
    "vmx=70\n",
    "interval=5\n",
    "lvl=np.arange(vmn,vmx+interval,interval) #set your own colormap\n",
    "\n",
    "cp2=ax.contourf(y,x,hr_radar[10,:,:],cmap=colormap,levels=lvl,vmin=vmn,vmax=vmx,extend='max',transform=ccrs.PlateCarree())\n",
    "cp1=ax.contour(y,x,hr_psl[10,:,:],colors='gray',linestyles='dashed',linewidths=0.75, transform=ccrs.PlateCarree())\n",
    "\n",
    "# add colour bar, have to define our tick interval based on same intervals as used in the contour plot.\n",
    "tcks = np.arange(vmn,vmx+5,5)\n",
    "cbar = fig.colorbar(cp2, label= 'DBZ', ticks=tcks, shrink=0.8)\n",
    "\n",
    "ax.coastlines()\n",
    "plt.show()\n"
   ]
  },
  {
   "cell_type": "code",
   "execution_count": null,
   "id": "0d1233ef-9a83-4f50-b9fd-8f6b336a0758",
   "metadata": {},
   "outputs": [],
   "source": [
    "#Make Animation\n",
    "import matplotlib.animation as animation\n",
    "\n",
    "\n",
    "# Define the number of time steps\n",
    "num_hours = hr_radar.shape[0]  # Assuming the data is [time, lat, lon]\n",
    "\n",
    "# Access the time dimension from the xarray DataArray\n",
    "times = hr_radar.time  # This assumes 'time' is the dimension name\n",
    "\n",
    "# Create the figure and map projection \n",
    "fig, ax = plt.subplots(1, 1, subplot_kw={'projection': ccrs.PlateCarree()})\n",
    "\n",
    "# Define levels and colormap for the contours\n",
    "vmn = 0\n",
    "vmx = 70\n",
    "interval = 5\n",
    "lvl = np.arange(vmn, vmx + interval, interval)\n",
    "# Initialize the contour plots as None\n",
    "cp1, cp2 = None, None\n",
    "\n",
    "cp1 = ax.contour(y, x, hr_psl[0, :, :], cmap='gray_r', transform=ccrs.PlateCarree())\n",
    "cp2=ax.contourf(y,x,hr_radar[20,:,:],cmap=colormap,levels=lvl,vmin=vmn,vmax=vmx,extend='max',transform=ccrs.PlateCarree())\n",
    "tcks = np.arange(vmn,vmx+5,5)\n",
    "cbar = fig.colorbar(cp2, label= '3hr mean DBZ', ticks=tcks, shrink=0.8, pad=0.05)\n",
    "\n",
    "ax.coastlines()\n",
    "# Update function for each frame\n",
    "def update(frame):\n",
    "    global cp1, cp2  # Declare the variables as global to update them\n",
    "\n",
    "    # Remove the previous contour and contourf plots before creating new ones\n",
    "    if cp1 is not None:\n",
    "        for c in cp1.collections:\n",
    "            c.remove()\n",
    "    if cp2 is not None:\n",
    "        for c in cp2.collections:\n",
    "            c.remove()\n",
    "    \n",
    "    # Plot data for the current timestep (frame)\n",
    "    cp1 = ax.contour(y, x, hr_psl[frame, :, :], colors='gray',linestyles='dashed',linewidths=0.75, transform=ccrs.PlateCarree())\n",
    "    cp2 = ax.contourf(y, x, hr_radar[frame, :, :], cmap=colormap, levels=lvl, vmin=vmn, vmax=vmx, extend='max', transform=ccrs.PlateCarree())\n",
    "\n",
    "    \n",
    "  # Add a title using the first 10 characters of the time string (yy-mm-dd)\n",
    "    time_str = str(times[frame].values)[:10]  # Extract the first 10 characters of the time\n",
    "    ax.set_title(f\"Time: {time_str}\")\n",
    "\n",
    "# Create the animation using the update function\n",
    "ani = animation.FuncAnimation(fig, update, frames=num_hours, repeat=False)\n",
    "\n",
    "# Save the animation as an MP4 file (or GIF)\n",
    "ani.save(\"<output_directory_and_filename>.mp4\", writer='ffmpeg', fps=5)  # Adjust fps (frames per second) as needed\n"
   ]
  }
 ],
 "metadata": {
  "kernelspec": {
   "display_name": "Python [conda env:analysis3-24.04] *",
   "language": "python",
   "name": "conda-env-analysis3-24.04-py"
  },
  "language_info": {
   "codemirror_mode": {
    "name": "ipython",
    "version": 3
   },
   "file_extension": ".py",
   "mimetype": "text/x-python",
   "name": "python",
   "nbconvert_exporter": "python",
   "pygments_lexer": "ipython3",
   "version": "3.10.14"
  }
 },
 "nbformat": 4,
 "nbformat_minor": 5
}
